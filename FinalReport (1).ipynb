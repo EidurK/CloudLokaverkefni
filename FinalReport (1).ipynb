{
  "cells": [
    {
      "cell_type": "markdown",
      "id": "8d954952-9390-43a0-bec0-4d4a8b6fe6ff",
      "metadata": {
        "id": "8d954952-9390-43a0-bec0-4d4a8b6fe6ff"
      },
      "source": [
        "# NMF topic analysis of the QAnon conspiracy theory\n",
        "Eiður Kristinsson EIK20@hi.is\n",
        "\n",
        "Gísli Már Guðmundsson GMG23@hi.is"
      ]
    },
    {
      "cell_type": "markdown",
      "id": "vNgiip2SdGfk",
      "metadata": {
        "id": "vNgiip2SdGfk"
      },
      "source": [
        "# Dataset preprocessing\n",
        "## Original Datasets\n",
        "We used two datasets\n",
        "`Hashed_Q_Submissions_Raw_Combined.csv` of **2.099.875** reddit posts of users. The dataset had 13 different columns of various metadata such as `subreddit`,`numReplies` but we only need three of those columns.\n",
        "\n",
        "|Column              | Data Type       | Definition       |\n",
        "|:-------------|:---------------|:---------------|\n",
        "| **author**   | object         | submission author's Reddit username|\n",
        "| **text**     | object         | submission selftext, if no text then link post|\n",
        "| **is_self**  | bool           | indication of text-only submission|\n",
        "\n",
        "\n",
        "We then used `Hashed_allAuthorStatus.csv`. This dataset held information about each user. Each user had been categorized into two categories, a *QAnon-interesed* and *QAnon-enthusiastic*. While both types follow the QAnon conspiracy in some way, the QAnon-enthusiastic are obsessed with it. In our report we only wanted to analyze the topics of the QAnon-enthusiastic.\n",
        "\n",
        "|Column              | Data Type       | Definition       |\n",
        "|:--------|:-------|:-------|\n",
        "| **QAuthor** | object | The hashed author's Reddit username|\n",
        "| **isUQ**    | int64  | 0 = QAnon-interested, 1 = QAnon-enthusiastic |\n",
        "| status  | object | Active, DNE, Is_suspended, (we don't use this) |\n",
        "\n",
        "## Creating our dataset\n",
        "We read in both datasets `df_submission` and `df_users`. Then we follow the process defined bellow\n",
        "1. Filter out all non text submissions (remove `df_submission['is_self'] == False`)\n",
        "2. Filter out all redundant columns we only keep `text` and `author` for the submissions. Similarly we only keep `isUQ` and `QAuthor` for the user dataframe.\n",
        "3. Merge the dataframes left on `author` and `QAuthor`. Now our datafram should look like this\n",
        "\n",
        "|Column              | Data Type       | Definition       |\n",
        "|:-------------|:---------------|:---------------|\n",
        "| author   | object         | submission author's Reddit username|\n",
        "| text     | object         | submission selftext, if no text then link post|\n",
        "| is_self  | bool           | indication of text-only submission|\n",
        "| isUQ     | int64  | 0 = QAnon-interested, 1 = QAnon-enthusiastic |\n",
        "\n",
        "4. remove all rows where `isUQ == 0`\n",
        "5. Write the `author` and `text` column into a .csv file\n",
        "\n",
        "# Data preprocessing\n",
        "Each row of the dataframe is passed through these three functions\n",
        "1. `stopwords_lemmatizer(string, stopwords)` removes all stopwords from the sentence using a given list of stopwords. then returnes the sentence lemmatized.\n",
        "\n",
        "2. `remove_links(string)`, removes each part of the string where the word starts with http and to the next empty space.\n",
        "3. `remove symbols(string)`, removes all non character symbols like \"@,(:!)\"\n",
        "\n",
        "After processing each file in the dataframe, we write it down into the file `FullyCleanedDataframe.csv`."
      ]
    },
    {
      "cell_type": "markdown",
      "id": "wcG3FvGScQ4P",
      "metadata": {
        "id": "wcG3FvGScQ4P"
      },
      "source": [
        "Importing needed libraries for the project"
      ]
    },
    {
      "cell_type": "code",
      "execution_count": 2,
      "id": "c016f6f4-4651-4fb6-8c2e-df90dd0a44bd",
      "metadata": {
        "id": "c016f6f4-4651-4fb6-8c2e-df90dd0a44bd"
      },
      "outputs": [],
      "source": [
        "import numpy as np\n",
        "import pandas as pd\n",
        "from pathlib import Path\n",
        "\n",
        "from sklearn.feature_extraction.text import TfidfVectorizer\n",
        "from sklearn.decomposition import NMF\n"
      ]
    },
    {
      "cell_type": "markdown",
      "id": "mmM1mhnJ4cW6",
      "metadata": {
        "id": "mmM1mhnJ4cW6"
      },
      "source": [
        "### NMF function\n",
        "\n",
        "This function takes in $n \\times m$ matrix $X$ and $p$ where $p$ is less than both $n$ and $m$.\n",
        "Here we use the `NMF` from `sklearn` to find $n \\times p$ matrix $W$ and $p\\times m$ matrix $H$ so\n",
        "$$\n",
        "X \\approx W H\n",
        "$$\n",
        "\n",
        "> Note, we only created the `nmf` for a more readable code."
      ]
    },
    {
      "cell_type": "code",
      "execution_count": 4,
      "id": "V2u_m50T4Mf7",
      "metadata": {
        "id": "V2u_m50T4Mf7"
      },
      "outputs": [],
      "source": [
        "def nmf(X, p):\n",
        "    model = NMF(n_components=p, init='random', random_state=0, max_iter=1000)\n",
        "    W = model.fit_transform(X)\n",
        "    H = model.components_\n",
        "    return W,H\n"
      ]
    },
    {
      "cell_type": "markdown",
      "id": "UsZbmATJ4fVB",
      "metadata": {
        "id": "UsZbmATJ4fVB"
      },
      "source": [
        "Similarly to the `nmf` function this function was only created for more readable code.\n",
        "the `tfidf_matrix` function takes in a numpy array of documents `D` and some hyperparameters.\n",
        "We then uses `TfidfVectorizer` to find a Tf-Idf matrix `X` and the vocabulary `vocab`.\n"
      ]
    },
    {
      "cell_type": "code",
      "execution_count": 5,
      "id": "5yNKai1t4QFI",
      "metadata": {
        "id": "5yNKai1t4QFI"
      },
      "outputs": [],
      "source": [
        "\n",
        "def tfidf_matrix(D, min_df = 0.01, max_df=0.1, max_features=1000):\n",
        "    vectorizer = TfidfVectorizer(\n",
        "            min_df=min_df,\n",
        "            max_df=max_df,\n",
        "            max_features=max_features,\n",
        "            lowercase=False)\n",
        "    X = vectorizer.fit_transform(D)\n",
        "    vocab = vectorizer.get_feature_names_out()\n",
        "    return X, vocab"
      ]
    },
    {
      "cell_type": "markdown",
      "id": "8sZdlmny4hyU",
      "metadata": {
        "id": "8sZdlmny4hyU"
      },
      "source": [
        "In this report the `top_n_words` and `top_n_index` functions are only used for finding the top words of each topic using the `H` matrix from the `nmf` function. However it would also be possible to find the top documents for each topic but since we are working with preprocessed data where stopwords have been removed, the output would not be very readable."
      ]
    },
    {
      "cell_type": "code",
      "execution_count": 6,
      "id": "3130be9e-a587-45ed-a373-dc25c64b9dad",
      "metadata": {
        "id": "3130be9e-a587-45ed-a373-dc25c64b9dad"
      },
      "outputs": [],
      "source": [
        "\n",
        "def top_n_index(H, n):\n",
        "    return [np.argsort(h[:])[-n:] for h in H]\n",
        "\n",
        "def top_n_words(H,n,vocab):\n",
        "    indx = top_n_index(H,n)\n",
        "    return [vocab[i] for i in indx]"
      ]
    },
    {
      "cell_type": "markdown",
      "id": "FTXHUyoWcqWL",
      "metadata": {
        "id": "FTXHUyoWcqWL"
      },
      "source": [
        "Here we import the cleaned Dataframe.\n",
        "\n",
        "Set the min_df, max_df. the values are so low hence we have a really big dataframe to work with.\n",
        "max_features is here as an extra safety massure that we cant go over.\n",
        "\n",
        "Topic count is how many groups we will get\n",
        "\n",
        "Word_count_per_group is how many words we will display"
      ]
    },
    {
      "cell_type": "code",
      "execution_count": 7,
      "id": "0b79b797-575a-4d70-8308-57bb4df5a1e5",
      "metadata": {
        "id": "0b79b797-575a-4d70-8308-57bb4df5a1e5"
      },
      "outputs": [],
      "source": [
        "# ------------------------------\n",
        "\n",
        "input_file = Path(\"./data/FullyCleanedDataframe.csv\")\n",
        "\n",
        "min_df = 0.01\n",
        "max_df = 0.1\n",
        "max_features = 1000\n",
        "\n",
        "topic_count = 12\n",
        "word_count_per_group = 6\n",
        "\n",
        "# ------------------------------"
      ]
    },
    {
      "cell_type": "markdown",
      "id": "cnhB-0shcq6g",
      "metadata": {
        "id": "cnhB-0shcq6g"
      },
      "source": [
        "Here we are reading in the dataframe and cleaning out if there are any empty values"
      ]
    },
    {
      "cell_type": "code",
      "execution_count": 8,
      "id": "5f1ff398-5230-41d8-8368-b82769d937db",
      "metadata": {
        "id": "5f1ff398-5230-41d8-8368-b82769d937db"
      },
      "outputs": [],
      "source": [
        "df = pd.read_csv(input_file, encoding='utf-8')\n",
        "df = df.dropna()"
      ]
    },
    {
      "cell_type": "markdown",
      "id": "gL7d7_-gcrO2",
      "metadata": {
        "id": "gL7d7_-gcrO2"
      },
      "source": [
        "get all documents for tf-idf matrix"
      ]
    },
    {
      "cell_type": "code",
      "execution_count": 9,
      "id": "49f9e1bf-2439-4b22-a397-4fb8913fa073",
      "metadata": {
        "id": "49f9e1bf-2439-4b22-a397-4fb8913fa073"
      },
      "outputs": [],
      "source": [
        "D = df['text'].to_numpy()"
      ]
    },
    {
      "cell_type": "markdown",
      "id": "dJJ-zz4scrkG",
      "metadata": {
        "id": "dJJ-zz4scrkG"
      },
      "source": [
        "we are using the function we explained above"
      ]
    },
    {
      "cell_type": "code",
      "execution_count": 10,
      "id": "9d2b8d36-a8dd-44ce-ad2a-f4aba849913b",
      "metadata": {
        "id": "9d2b8d36-a8dd-44ce-ad2a-f4aba849913b"
      },
      "outputs": [],
      "source": [
        "X, vocab = tfidf_matrix(\n",
        "    D,\n",
        "    min_df,\n",
        "    max_df,\n",
        "    max_features\n",
        ")"
      ]
    },
    {
      "cell_type": "markdown",
      "id": "lDu19mJDctXf",
      "metadata": {
        "id": "lDu19mJDctXf"
      },
      "source": [
        "Here we are printing out and making sure we have the right shape"
      ]
    },
    {
      "cell_type": "code",
      "execution_count": 11,
      "id": "ede3ef5b-f337-4efa-b374-2bc348f95624",
      "metadata": {
        "colab": {
          "base_uri": "https://localhost:8080/"
        },
        "id": "ede3ef5b-f337-4efa-b374-2bc348f95624",
        "outputId": "751eb5ec-6975-4d71-d74e-0e077366fe3f"
      },
      "outputs": [
        {
          "name": "stdout",
          "output_type": "stream",
          "text": [
            "(103811, 773) (773,)\n"
          ]
        }
      ],
      "source": [
        "print(X.shape, vocab.shape)"
      ]
    },
    {
      "cell_type": "markdown",
      "id": "KqWPlLNRcttA",
      "metadata": {
        "id": "KqWPlLNRcttA"
      },
      "source": [
        "we are using the function we explained above"
      ]
    },
    {
      "cell_type": "code",
      "execution_count": 12,
      "id": "053657ee-5ee4-4ae2-920e-dac22e1965c5",
      "metadata": {
        "id": "053657ee-5ee4-4ae2-920e-dac22e1965c5"
      },
      "outputs": [],
      "source": [
        "W, H = nmf(X,topic_count)"
      ]
    },
    {
      "cell_type": "markdown",
      "id": "tjFf9Z2ocuI0",
      "metadata": {
        "id": "tjFf9Z2ocuI0"
      },
      "source": [
        "Here we are printing out and making sure we have the right shape"
      ]
    },
    {
      "cell_type": "code",
      "execution_count": 13,
      "id": "383f537b-ac25-4ce5-a346-ae453f8bdad4",
      "metadata": {
        "colab": {
          "base_uri": "https://localhost:8080/"
        },
        "id": "383f537b-ac25-4ce5-a346-ae453f8bdad4",
        "outputId": "3d4c23c8-24cc-4c96-dbfd-13463cd7bcfc"
      },
      "outputs": [
        {
          "name": "stdout",
          "output_type": "stream",
          "text": [
            "(103811, 773)  =  (103811, 12) (12, 773)\n"
          ]
        }
      ],
      "source": [
        "print(X.shape, \" = \", W.shape, H.shape)"
      ]
    },
    {
      "cell_type": "markdown",
      "id": "PX5wuVy6cumW",
      "metadata": {
        "id": "PX5wuVy6cumW"
      },
      "source": [
        "we are using the function we explained above"
      ]
    },
    {
      "cell_type": "code",
      "execution_count": 14,
      "id": "7f75d735-d746-4fac-91e6-7eec4a99d7db",
      "metadata": {
        "id": "7f75d735-d746-4fac-91e6-7eec4a99d7db"
      },
      "outputs": [],
      "source": [
        "top_words = top_n_words(H,word_count_per_group, vocab)"
      ]
    },
    {
      "cell_type": "markdown",
      "id": "tvddk_o8cvdI",
      "metadata": {
        "id": "tvddk_o8cvdI"
      },
      "source": [
        "Here we are printing out the reslults\n",
        "\n",
        "Each line containing each topic"
      ]
    },
    {
      "cell_type": "code",
      "execution_count": 15,
      "id": "244945be-97b5-43cd-bd60-1678a0d9b447",
      "metadata": {
        "colab": {
          "base_uri": "https://localhost:8080/"
        },
        "id": "244945be-97b5-43cd-bd60-1678a0d9b447",
        "outputId": "9fe28d34-f2c2-46d3-8779-44da5748b945"
      },
      "outputs": [
        {
          "name": "stdout",
          "output_type": "stream",
          "text": [
            "['clinton' 'fbi' 'investig' 'report' 'hillari' 'email']\n",
            "['god' 'love' 'bless' 'jesus' 'life' 'lord']\n",
            "['guy' 'fuck' 'shit' 'bad' 'hey' 'woman']\n",
            "['game' 'play' 'player' 'team' 'fun' 'win']\n",
            "['news' 'fake' 'medium' 'report' 'stori' 'msm']\n",
            "['tweet' 'check' 'twitter' 'potus' 'account' 'messag']\n",
            "['ampxb' 'process' 'donald' 'player' 'sign' 'price']\n",
            "['video' 'watch' 'youtub' 'channel' 'minut' 'interview']\n",
            "['amp' 'red' 'stay' 'patriot' 'pill' 'board']\n",
            "['start' 'feel' 'happen' 'read' 'lot' 'talk']\n",
            "['link' 'articl' 'comment' 'reddit' 'info' 'search']\n",
            "['presid' 'govern' 'control' 'countri' 'war' 'power']\n"
          ]
        }
      ],
      "source": [
        "label_count = 3 # for graph visualization\n",
        "labels = []\n",
        "for group in top_words:\n",
        "    g = np.flip(group)\n",
        "    print(g)\n",
        "    labels.append(g[-label_count:])"
      ]
    },
    {
      "cell_type": "markdown",
      "id": "498264e9",
      "metadata": {},
      "source": [
        "## Graph visualisation\n",
        "\n",
        "Now we know what topics the QAnon conspiracy is about but how do they connect? \n",
        "The `W` matrix declared above shows the connection between sentences and what topics they fall into, e.g. if `W[i,j] == 0` then sentence `i` is not about topic `j`.\n",
        "If we calculate the cosine similarity between the columns of `W` we can get a matrix that shows how much topics are correlated."
      ]
    },
    {
      "cell_type": "code",
      "execution_count": 16,
      "id": "ceccf754",
      "metadata": {},
      "outputs": [],
      "source": [
        "import networkx as nx \n",
        "\n",
        "from sklearn.metrics.pairwise import cosine_similarity\n",
        "import matplotlib.pyplot as plt\n",
        "\n",
        "weight_matrix = cosine_similarity(W.T)"
      ]
    },
    {
      "cell_type": "markdown",
      "id": "340ebce1",
      "metadata": {},
      "source": [
        "If we then create a weighted undirected graph from the `weight_matrix` we can see how the topics are correlated.\n",
        "Here we create a method that takes in the `weight_matrix`, `labels` for the nodes (topics) and `lam` a hyperparameter specifying a minimum weight threshold."
      ]
    },
    {
      "cell_type": "code",
      "execution_count": 17,
      "id": "a09ee4fd",
      "metadata": {},
      "outputs": [],
      "source": [
        "def visualize_graph(weights, labels, lam):\n",
        "    G = nx.Graph()\n",
        "    n = len(weights)\n",
        "\n",
        "    for i in range(n):\n",
        "        for j in range(i+1, n):\n",
        "            w = weights[i][j]\n",
        "            if w > lam or lam == -1:\n",
        "                G.add_edge(i, j, weight=w)\n",
        "    pos = nx.spring_layout(G)\n",
        "\n",
        "    edges = G.edges(data=True)\n",
        "    wts = [d['weight'] for (_,_,d) in edges]\n",
        "    nx.draw(G, pos, with_labels=False, edge_color=wts, edge_cmap=plt.cm.Blues, node_size=1600)\n",
        "    node_labels = {i: \"\\n\".join(labels[i]) for i in G.nodes()}\n",
        "    nx.draw_networkx_labels(G, pos, labels=node_labels, font_size=10)\n",
        "    plt.show()"
      ]
    },
    {
      "cell_type": "markdown",
      "id": "36a1455e",
      "metadata": {},
      "source": [
        "We recommend setting `topic_count = 60` and `lam = 0.125`"
      ]
    },
    {
      "cell_type": "code",
      "execution_count": 19,
      "id": "48381172",
      "metadata": {},
      "outputs": [
        {
          "data": {
            "image/png": "[encoded data removed]",
            "text/plain": [
              "<Figure size 640x480 with 1 Axes>"
            ]
          },
          "metadata": {},
          "output_type": "display_data"
        }
      ],
      "source": [
        "visualize_graph(weight_matrix, labels, 0.2)"
      ]
    },
    {
      "cell_type": "markdown",
      "id": "dc8ead32",
      "metadata": {},
      "source": []
    },
    {
      "cell_type": "markdown",
      "id": "dj4OubJL3yuZ",
      "metadata": {
        "id": "dj4OubJL3yuZ"
      },
      "source": [
        "\n",
        "# Results\n",
        "  interpration of a few topics from the analysis\n",
        "\n",
        "  1.topic of FBI investigating Hillary Clinton and Obama, and the connection between the Hillary  email  and Russia.\n",
        "\n",
        "  2.Cristianity and evil lords, other religious topics.\n",
        "\n",
        "  5.Fake news, cnn but we can also see a clear connection between the QAnon conspiracy and Trump's truth social  platform.\n",
        "  \n",
        "  12.Nationalistic  topics about war, power and the government.\n",
        "  \n"
      ]
    },
    {
      "cell_type": "code",
      "execution_count": null,
      "id": "BahTw0Ec3zsZ",
      "metadata": {
        "id": "BahTw0Ec3zsZ"
      },
      "outputs": [],
      "source": []
    }
  ],
  "metadata": {
    "colab": {
      "provenance": []
    },
    "kernelspec": {
      "display_name": "Python 3",
      "language": "python",
      "name": "python3"
    },
    "language_info": {
      "codemirror_mode": {
        "name": "ipython",
        "version": 3
      },
      "file_extension": ".py",
      "mimetype": "text/x-python",
      "name": "python",
      "nbconvert_exporter": "python",
      "pygments_lexer": "ipython3",
      "version": "3.8.10"
    }
  },
  "nbformat": 4,
  "nbformat_minor": 5
}
